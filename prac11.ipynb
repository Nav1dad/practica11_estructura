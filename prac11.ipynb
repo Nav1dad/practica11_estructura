{
 "cells": [
  {
   "cell_type": "code",
   "execution_count": 1,
   "metadata": {},
   "outputs": [
    {
     "name": "stdout",
     "output_type": "stream",
     "text": [
      "el resultado es: 5.0\n"
     ]
    }
   ],
   "source": [
    "import math as m\n",
    "resultado = m.sqrt(25)\n",
    "print(f\"el resultado es: {resultado}\")"
   ]
  },
  {
   "cell_type": "code",
   "execution_count": 2,
   "metadata": {},
   "outputs": [
    {
     "name": "stdout",
     "output_type": "stream",
     "text": [
      "el resultado es: 5.0\n"
     ]
    }
   ],
   "source": [
    "from math import sqrt\n",
    "resultado = sqrt(25)\n",
    "print(f\"el resultado es: {resultado}\")"
   ]
  },
  {
   "cell_type": "code",
   "execution_count": 17,
   "metadata": {},
   "outputs": [
    {
     "name": "stdout",
     "output_type": "stream",
     "text": [
      "Hola Mundo Pedro\n"
     ]
    }
   ],
   "source": [
    "import miModulo as mm\n",
    "print(mm.saludo(\"Pedro\"))"
   ]
  },
  {
   "cell_type": "code",
   "execution_count": 31,
   "metadata": {},
   "outputs": [
    {
     "name": "stdout",
     "output_type": "stream",
     "text": [
      "Hola Mundo Pedro\n"
     ]
    }
   ],
   "source": [
    "from miModulo import saludo\n",
    "print(saludo(\"Pedro\"))"
   ]
  }
 ],
 "metadata": {
  "kernelspec": {
   "display_name": "base",
   "language": "python",
   "name": "python3"
  },
  "language_info": {
   "codemirror_mode": {
    "name": "ipython",
    "version": 3
   },
   "file_extension": ".py",
   "mimetype": "text/x-python",
   "name": "python",
   "nbconvert_exporter": "python",
   "pygments_lexer": "ipython3",
   "version": "3.11.3"
  }
 },
 "nbformat": 4,
 "nbformat_minor": 2
}
